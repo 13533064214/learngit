{
 "cells": [
  {
   "cell_type": "markdown",
   "metadata": {},
   "source": [
    "# Git Tutorial"
   ]
  },
  {
   "cell_type": "markdown",
   "metadata": {},
   "source": [
    "<td bgcolor=yellow><font size=4 face=\"黑体\"> \n",
    "参考网站"
   ]
  },
  {
   "cell_type": "markdown",
   "metadata": {},
   "source": [
    " Git官方网站：https://git-scm.com/  \n",
    "廖雪峰官方网站：https://www.liaoxuefeng.com/  \n",
    "国外网友制作的Git Cheat Sheet：https://pan.baidu.com/s/1kU5OCOB#list/path=%2F"
   ]
  },
  {
   "cell_type": "markdown",
   "metadata": {},
   "source": [
    "<td bgcolor=yellow><font size=4 face=\"黑体\"> \n",
    "Git安装"
   ]
  },
  {
   "cell_type": "markdown",
   "metadata": {},
   "source": [
    "Git：目前世界上最先进的分布式版本控制系统  \n",
    "Windows上安装Git：https://git-scm.com/downloads  \n",
    "国内镜像：https://pan.baidu.com/s/1kU5OCOB#list/path=%2Fpub%2Fgit"
   ]
  },
  {
   "cell_type": "markdown",
   "metadata": {},
   "source": [
    "●初始化一个Git仓库：git init    \n",
    "●添加文件到Git仓库，分两步：   \n",
    "git add [file]，注意，可反复多次使用，添加多个文件；  \n",
    "git commit -m [message]，完成。"
   ]
  },
  {
   "cell_type": "markdown",
   "metadata": {},
   "source": [
    "<td bgcolor=yellow><font size=4 face=\"黑体\"> \n",
    "版本管理"
   ]
  },
  {
   "cell_type": "markdown",
   "metadata": {},
   "source": [
    "●随时掌握工作区的状态：git status  \n",
    "●如果git status告诉有文件被修改过，查看修改内容：git diff  \n",
    "●HEAD指向的版本就是当前版本，因此Git允许我们在版本的历史之间穿梭：git reset --hard commit_id  \n",
    "●穿梭前，查看提交历史，以便确定要回退到哪个版本：git log  \n",
    "●要重返未来，查看命令历史，以便确定要回到未来的哪个版本：git reflog "
   ]
  },
  {
   "cell_type": "markdown",
   "metadata": {},
   "source": [
    "●暂存区是Git非常重要的概念  \n",
    "我们把文件往Git版本库里添加的时候，分两步执行：  \n",
    "第一步是用git add把文件添加进去，实际上就是把文件修改添加到暂存区；  \n",
    "第二步是用git commit提交更改，实际上就是把暂存区的所有内容提交到当前分支。  \n",
    "每次修改，如果不用git add到暂存区，那就不会加入到commit中"
   ]
  },
  {
   "cell_type": "markdown",
   "metadata": {},
   "source": [
    "●直接丢弃工作区的修改：git checkout -- file  \n",
    "●当不但改乱了工作区某个文件的内容，还添加到了暂存区时，想丢弃修改，分两步  \n",
    "第一步：git reset HEAD [file]，就回到了上面情况  \n",
    "第二步：按上面情况操作  \n",
    "●已经提交了不合适的修改到版本库时，想要撤销本次提交，参考版本回退，不过前提是没有推送到远程库。  \n",
    "●删除一个文件：git rm用于删除一个文件  \n",
    "如果一个文件已经被提交到版本库，那么永远不用担心误删，但是要小心，你只能恢复文件到最新版本，你会丢失最近一次提交后你修改的内容。"
   ]
  },
  {
   "cell_type": "markdown",
   "metadata": {},
   "source": [
    "<td bgcolor=yellow><font size=4 face=\"黑体\"> \n",
    "远程仓库"
   ]
  },
  {
   "cell_type": "markdown",
   "metadata": {},
   "source": [
    "●关联一个远程库：git remote add origin git@server-name:path/repo-name.git  \n",
    "●关联后，第一次推送master分支的所有内容；git push -u origin master  \n",
    "●此后每次本地提交后，只要有必要，可以推送最新修改：git push origin master  \n",
    "●要克隆一个仓库，首先必须知道仓库的地址，然后使用克隆命令：git clone git@server-name:path/repo-name.git"
   ]
  },
  {
   "cell_type": "markdown",
   "metadata": {},
   "source": [
    "<td bgcolor=yellow><font size=4 face=\"黑体\"> \n",
    "分支管理"
   ]
  },
  {
   "cell_type": "markdown",
   "metadata": {},
   "source": [
    "●查看分支：git branch  \n",
    "创建分支：git branch [name]  \n",
    "切换分支：git checkout [name]  \n",
    "创建+切换分支：git checkout -b [name]  \n",
    "合并某分支到当前分支：git merge [name]  \n",
    "删除分支：git branch -d [name]  \n",
    "●当Git无法自动合并分支时，就必须首先解决冲突。解决冲突后，再提交，合并完成。  \n",
    "解决冲突就是把Git合并失败的文件手动编辑为我们希望的内容，再提交。  \n",
    "看分支合并图：git log --graph  \n",
    "●合并分支时，加上--no-ff参数就可以用普通模式合并，合并后的历史有分支，能看出来曾经做过合并，而fast forward合并就看不出来曾经做过合并。  \n",
    "●修复bug时，我们会通过创建新的bug分支进行修复，然后合并，最后删除；  \n",
    "当手头工作没有完成时，先把工作现场git stash一下，然后去修复bug，修复后，再git stash pop，回到工作现场。  \n",
    "●开发一个新feature，最好新建一个分支；  \n",
    "如果要丢弃一个没有被合并过的分支，可以强行删除：git branch -D [name]  "
   ]
  },
  {
   "cell_type": "markdown",
   "metadata": {},
   "source": [
    "<td bgcolor=yellow><font size=4 face=\"黑体\"> \n",
    "多人协作"
   ]
  },
  {
   "cell_type": "markdown",
   "metadata": {},
   "source": [
    "●查看远程库信息：git remote -v  \n",
    "●本地新建的分支如果不推送到远程，对其他人就是不可见的  \n",
    "●从本地推送分支：git push origin branch-name  \n",
    "如果推送失败，先用git pull抓取远程的新提交  \n",
    "●在本地创建和远程分支对应的分支：git checkout -b branch-name origin/branch-name  \n",
    "本地和远程分支的名称最好一致  \n",
    "●建立本地分支和远程分支的关联：git branch --set-upstream branch-name origin/branch-name  \n",
    "从远程抓取分支：git pull，如果有冲突，要先处理冲突。  \n",
    "●rebase操作可以把本地未push的分叉提交历史整理成直线；  \n",
    "rebase的目的是使得我们在查看历史提交的变化时更容易，因为分叉的提交需要三方对比。"
   ]
  },
  {
   "cell_type": "markdown",
   "metadata": {},
   "source": [
    "<td bgcolor=yellow><font size=4 face=\"黑体\"> \n",
    "标签管理"
   ]
  },
  {
   "cell_type": "markdown",
   "metadata": {},
   "source": [
    "●新建一个标签，默认为HEAD（也可以指定一个commit id）：git tag [tagname]    \n",
    "●指定标签信息：git tag -a [tagname] -m \"blablabla...\"  \n",
    "●查看所有标签：git tag  \n",
    "●推送一个本地标签：git push origin [tagname]  \n",
    "●推送全部未推送过的本地标签：git push origin --tags  \n",
    "●删除一个本地标签：git tag -d [tagname]  \n",
    "●删除一个远程标签：git push origin :refs/tags/[tagname]  "
   ]
  },
  {
   "cell_type": "markdown",
   "metadata": {},
   "source": [
    "<td bgcolor=yellow><font size=4 face=\"黑体\"> \n",
    "GitHub Fork功能"
   ]
  },
  {
   "cell_type": "markdown",
   "metadata": {},
   "source": [
    "●在GitHub上，可以任意Fork开源仓库；  \n",
    "自己拥有Fork后的仓库的读写权限；  \n",
    "可以推送pull request给官方仓库来贡献代码。  \n",
    "●国内的Git托管服务——码云（gitee.com）"
   ]
  },
  {
   "cell_type": "markdown",
   "metadata": {},
   "source": [
    "##### Git虽然极其强大，命令繁多，但常用的命令只有十来个"
   ]
  }
 ],
 "metadata": {
  "kernelspec": {
   "display_name": "Python 3",
   "language": "python",
   "name": "python3"
  },
  "language_info": {
   "codemirror_mode": {
    "name": "ipython",
    "version": 3
   },
   "file_extension": ".py",
   "mimetype": "text/x-python",
   "name": "python",
   "nbconvert_exporter": "python",
   "pygments_lexer": "ipython3",
   "version": "3.5.2"
  }
 },
 "nbformat": 4,
 "nbformat_minor": 2
}
